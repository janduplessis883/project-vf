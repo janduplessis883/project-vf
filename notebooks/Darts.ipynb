{
 "cells": [
  {
   "cell_type": "markdown",
   "id": "3f01a464-a64a-4880-98cf-93644bee6694",
   "metadata": {},
   "source": [
    "# **💉INForcast** - Time Series Forcasting using Darts"
   ]
  },
  {
   "cell_type": "markdown",
   "id": "5eb192c8-2163-4016-9b00-ffe128950ad9",
   "metadata": {},
   "source": [
    "### Importing Libraries and Package files"
   ]
  },
  {
   "cell_type": "code",
   "execution_count": 27,
   "id": "c8eda272-3466-4171-9ee7-5c27d2294e58",
   "metadata": {},
   "outputs": [
    {
     "name": "stdout",
     "output_type": "stream",
     "text": [
      "The autoreload extension is already loaded. To reload it, use:\n",
      "  %reload_ext autoreload\n"
     ]
    }
   ],
   "source": [
    "import pandas as pd\n",
    "import darts\n",
    "import seaborn as sns\n",
    "import matplotlib.pyplot as plt\n",
    "import os\n",
    "\n",
    "from inforcast.params import *\n",
    "from inforcast.ml_functions.preprocessor import *\n",
    "\n",
    "# Hi-resolution Plots and Matplotlib inline\n",
    "%config InlineBackend.figure_format = 'retina'\n",
    "\n",
    "# \"magic commands\" to enable autoreload of your imported packages\n",
    "%load_ext autoreload\n",
    "%autoreload 2"
   ]
  },
  {
   "cell_type": "code",
   "execution_count": 28,
   "id": "7409d3c0-0b52-4c8b-962a-c58dedda70c0",
   "metadata": {},
   "outputs": [
    {
     "data": {
      "text/plain": [
       "['.DS_Store',\n",
       " 'Influenza_Predictor_KMC.csv',\n",
       " 'influenzaTCP.csv',\n",
       " 'influenza_predictorECS.csv',\n",
       " 'sampledata_all.csv',\n",
       " 'influenzaSMW.csv',\n",
       " 'influenzaTGP.csv',\n",
       " 'sampledata.csv']"
      ]
     },
     "execution_count": 28,
     "metadata": {},
     "output_type": "execute_result"
    }
   ],
   "source": [
    "directory_path = \"../data/\"\n",
    "file_list = os.listdir(directory_path)\n",
    "file_list"
   ]
  },
  {
   "cell_type": "code",
   "execution_count": 29,
   "id": "021d70b9-61df-4d35-8d64-13ffa9bbe5a1",
   "metadata": {},
   "outputs": [],
   "source": [
    "data = pd.read_csv(f'../data/influenza_predictorECS.csv')"
   ]
  },
  {
   "cell_type": "code",
   "execution_count": 30,
   "id": "1cde366f-7b0a-4f8e-9e05-e5d567d4b7bc",
   "metadata": {},
   "outputs": [
    {
     "data": {
      "text/html": [
       "<div>\n",
       "<style scoped>\n",
       "    .dataframe tbody tr th:only-of-type {\n",
       "        vertical-align: middle;\n",
       "    }\n",
       "\n",
       "    .dataframe tbody tr th {\n",
       "        vertical-align: top;\n",
       "    }\n",
       "\n",
       "    .dataframe thead th {\n",
       "        text-align: right;\n",
       "    }\n",
       "</style>\n",
       "<table border=\"1\" class=\"dataframe\">\n",
       "  <thead>\n",
       "    <tr style=\"text-align: right;\">\n",
       "      <th></th>\n",
       "      <th>Vaccination type</th>\n",
       "      <th>Event date</th>\n",
       "      <th>Date of birth</th>\n",
       "      <th>Event done at ID</th>\n",
       "      <th>Patient Count</th>\n",
       "    </tr>\n",
       "  </thead>\n",
       "  <tbody>\n",
       "    <tr>\n",
       "      <th>0</th>\n",
       "      <td>Influenza Vaccine 1</td>\n",
       "      <td>25-Oct-2006</td>\n",
       "      <td>05-Aug-1961</td>\n",
       "      <td>C88069</td>\n",
       "      <td>1</td>\n",
       "    </tr>\n",
       "    <tr>\n",
       "      <th>1</th>\n",
       "      <td>Inactivated Influenza Vaccine (Split Virion) B...</td>\n",
       "      <td>25-Oct-2016</td>\n",
       "      <td>05-Aug-1961</td>\n",
       "      <td>E87750</td>\n",
       "      <td>1</td>\n",
       "    </tr>\n",
       "    <tr>\n",
       "      <th>2</th>\n",
       "      <td>Quadrivalent influenza vaccine Split Virion in...</td>\n",
       "      <td>15-Dec-2020</td>\n",
       "      <td>05-Aug-1961</td>\n",
       "      <td>E87750</td>\n",
       "      <td>1</td>\n",
       "    </tr>\n",
       "    <tr>\n",
       "      <th>3</th>\n",
       "      <td>Flucelvax Tetra (Seqirus UK) 1</td>\n",
       "      <td>14-Dec-2021</td>\n",
       "      <td>05-Aug-1961</td>\n",
       "      <td>E87750</td>\n",
       "      <td>1</td>\n",
       "    </tr>\n",
       "    <tr>\n",
       "      <th>4</th>\n",
       "      <td>Influenza Vaccine 1</td>\n",
       "      <td>10-Oct-2000</td>\n",
       "      <td>23-May-1990</td>\n",
       "      <td>B82609</td>\n",
       "      <td>1</td>\n",
       "    </tr>\n",
       "  </tbody>\n",
       "</table>\n",
       "</div>"
      ],
      "text/plain": [
       "                                    Vaccination type   Event date  \\\n",
       "0                                Influenza Vaccine 1  25-Oct-2006   \n",
       "1  Inactivated Influenza Vaccine (Split Virion) B...  25-Oct-2016   \n",
       "2  Quadrivalent influenza vaccine Split Virion in...  15-Dec-2020   \n",
       "3                     Flucelvax Tetra (Seqirus UK) 1  14-Dec-2021   \n",
       "4                                Influenza Vaccine 1  10-Oct-2000   \n",
       "\n",
       "  Date of birth Event done at ID  Patient Count  \n",
       "0   05-Aug-1961           C88069              1  \n",
       "1   05-Aug-1961           E87750              1  \n",
       "2   05-Aug-1961           E87750              1  \n",
       "3   05-Aug-1961           E87750              1  \n",
       "4   23-May-1990           B82609              1  "
      ]
     },
     "execution_count": 30,
     "metadata": {},
     "output_type": "execute_result"
    }
   ],
   "source": [
    "data.head()"
   ]
  },
  {
   "cell_type": "markdown",
   "id": "c2768053-bd6a-4ef7-be81-b289e70ce02c",
   "metadata": {},
   "source": [
    "### Loading function from `main.py`\n",
    "To speed up processing."
   ]
  },
  {
   "cell_type": "code",
   "execution_count": 31,
   "id": "6380806a-121e-46d8-a4c9-fc7720a99a47",
   "metadata": {},
   "outputs": [],
   "source": [
    "data = process_dataframe(data)\n",
    "data = update_location(data)"
   ]
  },
  {
   "cell_type": "code",
   "execution_count": 32,
   "id": "abb892fc-6b2d-4b83-b011-b089ad9561a0",
   "metadata": {},
   "outputs": [
    {
     "data": {
      "text/html": [
       "<div>\n",
       "<style scoped>\n",
       "    .dataframe tbody tr th:only-of-type {\n",
       "        vertical-align: middle;\n",
       "    }\n",
       "\n",
       "    .dataframe tbody tr th {\n",
       "        vertical-align: top;\n",
       "    }\n",
       "\n",
       "    .dataframe thead th {\n",
       "        text-align: right;\n",
       "    }\n",
       "</style>\n",
       "<table border=\"1\" class=\"dataframe\">\n",
       "  <thead>\n",
       "    <tr style=\"text-align: right;\">\n",
       "      <th></th>\n",
       "      <th>vaccine</th>\n",
       "      <th>date</th>\n",
       "      <th>dob</th>\n",
       "      <th>location</th>\n",
       "      <th>pt_count</th>\n",
       "      <th>age_at_vaccine</th>\n",
       "    </tr>\n",
       "  </thead>\n",
       "  <tbody>\n",
       "    <tr>\n",
       "      <th>0</th>\n",
       "      <td>Influenza Vaccine 1</td>\n",
       "      <td>2006-10-25</td>\n",
       "      <td>1961-08-05</td>\n",
       "      <td>Elsewhere</td>\n",
       "      <td>1</td>\n",
       "      <td>45</td>\n",
       "    </tr>\n",
       "    <tr>\n",
       "      <th>1</th>\n",
       "      <td>Inactivated Influenza Vaccine (Split Virion) B...</td>\n",
       "      <td>2016-10-25</td>\n",
       "      <td>1961-08-05</td>\n",
       "      <td>E87750</td>\n",
       "      <td>1</td>\n",
       "      <td>55</td>\n",
       "    </tr>\n",
       "    <tr>\n",
       "      <th>2</th>\n",
       "      <td>Quadrivalent influenza vaccine Split Virion in...</td>\n",
       "      <td>2020-12-15</td>\n",
       "      <td>1961-08-05</td>\n",
       "      <td>E87750</td>\n",
       "      <td>1</td>\n",
       "      <td>59</td>\n",
       "    </tr>\n",
       "    <tr>\n",
       "      <th>3</th>\n",
       "      <td>Flucelvax Tetra (Seqirus UK) 1</td>\n",
       "      <td>2021-12-14</td>\n",
       "      <td>1961-08-05</td>\n",
       "      <td>E87750</td>\n",
       "      <td>1</td>\n",
       "      <td>60</td>\n",
       "    </tr>\n",
       "    <tr>\n",
       "      <th>4</th>\n",
       "      <td>Influenza Vaccine 1</td>\n",
       "      <td>2000-10-10</td>\n",
       "      <td>1990-05-23</td>\n",
       "      <td>Elsewhere</td>\n",
       "      <td>1</td>\n",
       "      <td>10</td>\n",
       "    </tr>\n",
       "  </tbody>\n",
       "</table>\n",
       "</div>"
      ],
      "text/plain": [
       "                                             vaccine       date        dob  \\\n",
       "0                                Influenza Vaccine 1 2006-10-25 1961-08-05   \n",
       "1  Inactivated Influenza Vaccine (Split Virion) B... 2016-10-25 1961-08-05   \n",
       "2  Quadrivalent influenza vaccine Split Virion in... 2020-12-15 1961-08-05   \n",
       "3                     Flucelvax Tetra (Seqirus UK) 1 2021-12-14 1961-08-05   \n",
       "4                                Influenza Vaccine 1 2000-10-10 1990-05-23   \n",
       "\n",
       "    location  pt_count  age_at_vaccine  \n",
       "0  Elsewhere         1              45  \n",
       "1     E87750         1              55  \n",
       "2     E87750         1              59  \n",
       "3     E87750         1              60  \n",
       "4  Elsewhere         1              10  "
      ]
     },
     "execution_count": 32,
     "metadata": {},
     "output_type": "execute_result"
    }
   ],
   "source": [
    "data.head()"
   ]
  },
  {
   "cell_type": "markdown",
   "id": "91e8bd39-cb3d-41ab-aea5-209ff994890b",
   "metadata": {},
   "source": [
    "### Transform `data` into TimeSeries"
   ]
  },
  {
   "cell_type": "code",
   "execution_count": 33,
   "id": "78e98de2-80ba-448d-b097-f962ba0e0366",
   "metadata": {},
   "outputs": [],
   "source": [
    "time_s = to_timeseries_full(data, 'date')"
   ]
  },
  {
   "cell_type": "code",
   "execution_count": 34,
   "id": "49b936d3-0663-4f97-9adf-f26c3bff2aaa",
   "metadata": {},
   "outputs": [
    {
     "data": {
      "text/html": [
       "<div>\n",
       "<style scoped>\n",
       "    .dataframe tbody tr th:only-of-type {\n",
       "        vertical-align: middle;\n",
       "    }\n",
       "\n",
       "    .dataframe tbody tr th {\n",
       "        vertical-align: top;\n",
       "    }\n",
       "\n",
       "    .dataframe thead th {\n",
       "        text-align: right;\n",
       "    }\n",
       "</style>\n",
       "<table border=\"1\" class=\"dataframe\">\n",
       "  <thead>\n",
       "    <tr style=\"text-align: right;\">\n",
       "      <th></th>\n",
       "      <th>date</th>\n",
       "      <th>count</th>\n",
       "    </tr>\n",
       "  </thead>\n",
       "  <tbody>\n",
       "    <tr>\n",
       "      <th>0</th>\n",
       "      <td>2000-10-31</td>\n",
       "      <td>23</td>\n",
       "    </tr>\n",
       "    <tr>\n",
       "      <th>1</th>\n",
       "      <td>2000-11-30</td>\n",
       "      <td>13</td>\n",
       "    </tr>\n",
       "    <tr>\n",
       "      <th>2</th>\n",
       "      <td>2000-12-31</td>\n",
       "      <td>9</td>\n",
       "    </tr>\n",
       "    <tr>\n",
       "      <th>3</th>\n",
       "      <td>2001-01-31</td>\n",
       "      <td>9</td>\n",
       "    </tr>\n",
       "    <tr>\n",
       "      <th>4</th>\n",
       "      <td>2001-02-28</td>\n",
       "      <td>0</td>\n",
       "    </tr>\n",
       "    <tr>\n",
       "      <th>...</th>\n",
       "      <td>...</td>\n",
       "      <td>...</td>\n",
       "    </tr>\n",
       "    <tr>\n",
       "      <th>275</th>\n",
       "      <td>2023-09-30</td>\n",
       "      <td>209</td>\n",
       "    </tr>\n",
       "    <tr>\n",
       "      <th>276</th>\n",
       "      <td>2023-10-31</td>\n",
       "      <td>146</td>\n",
       "    </tr>\n",
       "    <tr>\n",
       "      <th>277</th>\n",
       "      <td>2023-11-30</td>\n",
       "      <td>62</td>\n",
       "    </tr>\n",
       "    <tr>\n",
       "      <th>278</th>\n",
       "      <td>2023-12-31</td>\n",
       "      <td>28</td>\n",
       "    </tr>\n",
       "    <tr>\n",
       "      <th>279</th>\n",
       "      <td>2024-01-31</td>\n",
       "      <td>1</td>\n",
       "    </tr>\n",
       "  </tbody>\n",
       "</table>\n",
       "<p>280 rows × 2 columns</p>\n",
       "</div>"
      ],
      "text/plain": [
       "          date  count\n",
       "0   2000-10-31     23\n",
       "1   2000-11-30     13\n",
       "2   2000-12-31      9\n",
       "3   2001-01-31      9\n",
       "4   2001-02-28      0\n",
       "..         ...    ...\n",
       "275 2023-09-30    209\n",
       "276 2023-10-31    146\n",
       "277 2023-11-30     62\n",
       "278 2023-12-31     28\n",
       "279 2024-01-31      1\n",
       "\n",
       "[280 rows x 2 columns]"
      ]
     },
     "execution_count": 34,
     "metadata": {},
     "output_type": "execute_result"
    }
   ],
   "source": [
    "time_s"
   ]
  },
  {
   "cell_type": "code",
   "execution_count": 35,
   "id": "d316e437-0c77-408d-89b4-b3d45e4a6ff1",
   "metadata": {},
   "outputs": [],
   "source": [
    "time_s['count'] = time_s['count'] + 0.01"
   ]
  },
  {
   "cell_type": "code",
   "execution_count": 36,
   "id": "fbe880a0-b510-451e-a419-2ec878f20a0f",
   "metadata": {},
   "outputs": [],
   "source": [
    "time_s['count'] = time_s['count'].astype('float32')"
   ]
  },
  {
   "cell_type": "code",
   "execution_count": 37,
   "id": "01577339-7753-403c-a1b8-2538d8b35515",
   "metadata": {},
   "outputs": [
    {
     "name": "stdout",
     "output_type": "stream",
     "text": [
      "<class 'pandas.core.frame.DataFrame'>\n",
      "RangeIndex: 280 entries, 0 to 279\n",
      "Data columns (total 2 columns):\n",
      " #   Column  Non-Null Count  Dtype         \n",
      "---  ------  --------------  -----         \n",
      " 0   date    280 non-null    datetime64[ns]\n",
      " 1   count   280 non-null    float32       \n",
      "dtypes: datetime64[ns](1), float32(1)\n",
      "memory usage: 3.4 KB\n"
     ]
    }
   ],
   "source": [
    "time_s.info()"
   ]
  },
  {
   "cell_type": "markdown",
   "id": "35a7a1bc-4c94-4daa-9f40-b9c88aacafa7",
   "metadata": {},
   "source": [
    "# **Darts** TimeSeries Package"
   ]
  },
  {
   "cell_type": "markdown",
   "id": "cc1a1fdc-2bda-482b-b207-69da8304099a",
   "metadata": {},
   "source": [
    "### Libraries and initiating TimeSeries Object"
   ]
  },
  {
   "cell_type": "code",
   "execution_count": 38,
   "id": "41d794ce-5b92-4b11-bb0d-4af39614e59c",
   "metadata": {},
   "outputs": [],
   "source": [
    "from darts import TimeSeries\n",
    "from darts.datasets import AirPassengersDataset"
   ]
  },
  {
   "cell_type": "code",
   "execution_count": 39,
   "id": "2e22410e-280f-4c95-9202-ab30ecfcec31",
   "metadata": {},
   "outputs": [],
   "source": [
    "series =  TimeSeries.from_dataframe(time_s, time_col='date', value_cols='count')"
   ]
  },
  {
   "cell_type": "markdown",
   "id": "ff5707b1-9956-467f-9095-1b4798405514",
   "metadata": {},
   "source": [
    "### Scaled with **Standard Scaler**"
   ]
  },
  {
   "cell_type": "code",
   "execution_count": 40,
   "id": "6a7fec05-f710-4ef4-b1c2-9cddbb0e4c16",
   "metadata": {},
   "outputs": [
    {
     "data": {
      "image/png": "[encoded data removed]",
      "text/plain": [
       "<Figure size 640x480 with 1 Axes>"
      ]
     },
     "metadata": {
      "image/png": {
       "height": 430,
       "width": 544
      }
     },
     "output_type": "display_data"
    }
   ],
   "source": [
    "from darts.dataprocessing.transformers import Scaler\n",
    "\n",
    "# creating scaler object\n",
    "scaler_vacc = Scaler()\n",
    "# prefroming the scaling\n",
    "ts_scaled = scaler_vacc.fit_transform(series)\n",
    "# plottingair_ds.plot(label=\"Number Of Passengers\")\n",
    "ts_scaled.plot(label = \"Vaccines Scaled\")\n",
    "plt.legend();"
   ]
  },
  {
   "cell_type": "markdown",
   "id": "776e35d3-2bbe-4d6a-ab43-99fed10f08b3",
   "metadata": {},
   "source": [
    "**Diff Plot**"
   ]
  },
  {
   "cell_type": "code",
   "execution_count": 41,
   "id": "7aeebfdd-d477-484e-b35a-fbe8a6589318",
   "metadata": {},
   "outputs": [
    {
     "data": {
      "text/plain": [
       "<Axes: xlabel='date'>"
      ]
     },
     "execution_count": 41,
     "metadata": {},
     "output_type": "execute_result"
    },
    {
     "data": {
      "image/png": "[encoded data removed]",
      "text/plain": [
       "<Figure size 640x480 with 1 Axes>"
      ]
     },
     "metadata": {
      "image/png": {
       "height": 430,
       "width": 553
      }
     },
     "output_type": "display_data"
    }
   ],
   "source": [
    "ts_scaled.diff().plot()"
   ]
  },
  {
   "cell_type": "code",
   "execution_count": 49,
   "id": "2a23c504-1ec4-4acf-9de4-ff5119e4ec26",
   "metadata": {},
   "outputs": [
    {
     "ename": "ValueError",
     "evalue": "setting an array element with a sequence. The requested array would exceed the maximum number of dimension of 32.",
     "output_type": "error",
     "traceback": [
      "\u001b[0;31m---------------------------------------------------------------------------\u001b[0m",
      "\u001b[0;31mValueError\u001b[0m                                Traceback (most recent call last)",
      "Cell \u001b[0;32mIn[49], line 12\u001b[0m\n\u001b[1;32m      2\u001b[0m \u001b[38;5;28;01mfrom\u001b[39;00m \u001b[38;5;21;01mstatsmodels\u001b[39;00m\u001b[38;5;21;01m.\u001b[39;00m\u001b[38;5;21;01mtsa\u001b[39;00m\u001b[38;5;21;01m.\u001b[39;00m\u001b[38;5;21;01mstattools\u001b[39;00m \u001b[38;5;28;01mimport\u001b[39;00m adfuller\n\u001b[1;32m      4\u001b[0m \u001b[38;5;66;03m# Load your time series data\u001b[39;00m\n\u001b[1;32m      5\u001b[0m \u001b[38;5;66;03m# For demonstration, let's assume you have a pandas Series `ts` with your time series data.\u001b[39;00m\n\u001b[1;32m      6\u001b[0m \u001b[38;5;66;03m# ts = pd.read_csv('path_to_your_data.csv', usecols=['column_of_interest'], squeeze=True)\u001b[39;00m\n\u001b[0;32m   (...)\u001b[0m\n\u001b[1;32m     10\u001b[0m \n\u001b[1;32m     11\u001b[0m \u001b[38;5;66;03m# Perform the Augmented Dickey-Fuller test\u001b[39;00m\n\u001b[0;32m---> 12\u001b[0m adf_test \u001b[38;5;241m=\u001b[39m \u001b[43madfuller\u001b[49m\u001b[43m(\u001b[49m\u001b[43mts\u001b[49m\u001b[43m)\u001b[49m\n\u001b[1;32m     14\u001b[0m \u001b[38;5;28mprint\u001b[39m(\u001b[38;5;124m'\u001b[39m\u001b[38;5;124mADF Statistic: \u001b[39m\u001b[38;5;132;01m%f\u001b[39;00m\u001b[38;5;124m'\u001b[39m \u001b[38;5;241m%\u001b[39m adf_test[\u001b[38;5;241m0\u001b[39m])\n\u001b[1;32m     15\u001b[0m \u001b[38;5;28mprint\u001b[39m(\u001b[38;5;124m'\u001b[39m\u001b[38;5;124mp-value: \u001b[39m\u001b[38;5;132;01m%f\u001b[39;00m\u001b[38;5;124m'\u001b[39m \u001b[38;5;241m%\u001b[39m adf_test[\u001b[38;5;241m1\u001b[39m])\n",
      "File \u001b[0;32m~/.pyenv/versions/3.10.6/envs/inforcast/lib/python3.10/site-packages/statsmodels/tsa/stattools.py:263\u001b[0m, in \u001b[0;36madfuller\u001b[0;34m(x, maxlag, regression, autolag, store, regresults)\u001b[0m\n\u001b[1;32m    168\u001b[0m \u001b[38;5;28;01mdef\u001b[39;00m \u001b[38;5;21madfuller\u001b[39m(\n\u001b[1;32m    169\u001b[0m     x,\n\u001b[1;32m    170\u001b[0m     maxlag: \u001b[38;5;28mint\u001b[39m \u001b[38;5;241m|\u001b[39m \u001b[38;5;28;01mNone\u001b[39;00m \u001b[38;5;241m=\u001b[39m \u001b[38;5;28;01mNone\u001b[39;00m,\n\u001b[0;32m   (...)\u001b[0m\n\u001b[1;32m    174\u001b[0m     regresults\u001b[38;5;241m=\u001b[39m\u001b[38;5;28;01mFalse\u001b[39;00m,\n\u001b[1;32m    175\u001b[0m ):\n\u001b[1;32m    176\u001b[0m \u001b[38;5;250m    \u001b[39m\u001b[38;5;124;03m\"\"\"\u001b[39;00m\n\u001b[1;32m    177\u001b[0m \u001b[38;5;124;03m    Augmented Dickey-Fuller unit root test.\u001b[39;00m\n\u001b[1;32m    178\u001b[0m \n\u001b[0;32m   (...)\u001b[0m\n\u001b[1;32m    261\u001b[0m \u001b[38;5;124;03m        http://ideas.repec.org/p/qed/wpaper/1227.html\u001b[39;00m\n\u001b[1;32m    262\u001b[0m \u001b[38;5;124;03m    \"\"\"\u001b[39;00m\n\u001b[0;32m--> 263\u001b[0m     x \u001b[38;5;241m=\u001b[39m \u001b[43marray_like\u001b[49m\u001b[43m(\u001b[49m\u001b[43mx\u001b[49m\u001b[43m,\u001b[49m\u001b[43m \u001b[49m\u001b[38;5;124;43m\"\u001b[39;49m\u001b[38;5;124;43mx\u001b[39;49m\u001b[38;5;124;43m\"\u001b[39;49m\u001b[43m)\u001b[49m\n\u001b[1;32m    264\u001b[0m     maxlag \u001b[38;5;241m=\u001b[39m int_like(maxlag, \u001b[38;5;124m\"\u001b[39m\u001b[38;5;124mmaxlag\u001b[39m\u001b[38;5;124m\"\u001b[39m, optional\u001b[38;5;241m=\u001b[39m\u001b[38;5;28;01mTrue\u001b[39;00m)\n\u001b[1;32m    265\u001b[0m     regression \u001b[38;5;241m=\u001b[39m string_like(\n\u001b[1;32m    266\u001b[0m         regression, \u001b[38;5;124m\"\u001b[39m\u001b[38;5;124mregression\u001b[39m\u001b[38;5;124m\"\u001b[39m, options\u001b[38;5;241m=\u001b[39m(\u001b[38;5;124m\"\u001b[39m\u001b[38;5;124mc\u001b[39m\u001b[38;5;124m\"\u001b[39m, \u001b[38;5;124m\"\u001b[39m\u001b[38;5;124mct\u001b[39m\u001b[38;5;124m\"\u001b[39m, \u001b[38;5;124m\"\u001b[39m\u001b[38;5;124mctt\u001b[39m\u001b[38;5;124m\"\u001b[39m, \u001b[38;5;124m\"\u001b[39m\u001b[38;5;124mn\u001b[39m\u001b[38;5;124m\"\u001b[39m)\n\u001b[1;32m    267\u001b[0m     )\n",
      "File \u001b[0;32m~/.pyenv/versions/3.10.6/envs/inforcast/lib/python3.10/site-packages/statsmodels/tools/validation/validation.py:143\u001b[0m, in \u001b[0;36marray_like\u001b[0;34m(obj, name, dtype, ndim, maxdim, shape, order, contiguous, optional, writeable)\u001b[0m\n\u001b[1;32m    141\u001b[0m \u001b[38;5;28;01melif\u001b[39;00m order \u001b[38;5;241m==\u001b[39m \u001b[38;5;124m\"\u001b[39m\u001b[38;5;124mF\u001b[39m\u001b[38;5;124m\"\u001b[39m:\n\u001b[1;32m    142\u001b[0m     reqs \u001b[38;5;241m+\u001b[39m\u001b[38;5;241m=\u001b[39m [\u001b[38;5;124m\"\u001b[39m\u001b[38;5;124mF\u001b[39m\u001b[38;5;124m\"\u001b[39m]\n\u001b[0;32m--> 143\u001b[0m arr \u001b[38;5;241m=\u001b[39m \u001b[43mnp\u001b[49m\u001b[38;5;241;43m.\u001b[39;49m\u001b[43mrequire\u001b[49m\u001b[43m(\u001b[49m\u001b[43mobj\u001b[49m\u001b[43m,\u001b[49m\u001b[43m \u001b[49m\u001b[43mdtype\u001b[49m\u001b[38;5;241;43m=\u001b[39;49m\u001b[43mdtype\u001b[49m\u001b[43m,\u001b[49m\u001b[43m \u001b[49m\u001b[43mrequirements\u001b[49m\u001b[38;5;241;43m=\u001b[39;49m\u001b[43mreqs\u001b[49m\u001b[43m)\u001b[49m\n\u001b[1;32m    144\u001b[0m \u001b[38;5;28;01mif\u001b[39;00m maxdim \u001b[38;5;129;01mis\u001b[39;00m \u001b[38;5;129;01mnot\u001b[39;00m \u001b[38;5;28;01mNone\u001b[39;00m:\n\u001b[1;32m    145\u001b[0m     \u001b[38;5;28;01mif\u001b[39;00m arr\u001b[38;5;241m.\u001b[39mndim \u001b[38;5;241m>\u001b[39m maxdim:\n",
      "File \u001b[0;32m~/.pyenv/versions/3.10.6/envs/inforcast/lib/python3.10/site-packages/numpy/core/_asarray.py:126\u001b[0m, in \u001b[0;36mrequire\u001b[0;34m(a, dtype, requirements, like)\u001b[0m\n\u001b[1;32m    123\u001b[0m     order \u001b[38;5;241m=\u001b[39m \u001b[38;5;124m'\u001b[39m\u001b[38;5;124mC\u001b[39m\u001b[38;5;124m'\u001b[39m\n\u001b[1;32m    124\u001b[0m     requirements\u001b[38;5;241m.\u001b[39mremove(\u001b[38;5;124m'\u001b[39m\u001b[38;5;124mC\u001b[39m\u001b[38;5;124m'\u001b[39m)\n\u001b[0;32m--> 126\u001b[0m arr \u001b[38;5;241m=\u001b[39m \u001b[43marray\u001b[49m\u001b[43m(\u001b[49m\u001b[43ma\u001b[49m\u001b[43m,\u001b[49m\u001b[43m \u001b[49m\u001b[43mdtype\u001b[49m\u001b[38;5;241;43m=\u001b[39;49m\u001b[43mdtype\u001b[49m\u001b[43m,\u001b[49m\u001b[43m \u001b[49m\u001b[43morder\u001b[49m\u001b[38;5;241;43m=\u001b[39;49m\u001b[43morder\u001b[49m\u001b[43m,\u001b[49m\u001b[43m \u001b[49m\u001b[43mcopy\u001b[49m\u001b[38;5;241;43m=\u001b[39;49m\u001b[38;5;28;43;01mFalse\u001b[39;49;00m\u001b[43m,\u001b[49m\u001b[43m \u001b[49m\u001b[43msubok\u001b[49m\u001b[38;5;241;43m=\u001b[39;49m\u001b[43msubok\u001b[49m\u001b[43m)\u001b[49m\n\u001b[1;32m    128\u001b[0m \u001b[38;5;28;01mfor\u001b[39;00m prop \u001b[38;5;129;01min\u001b[39;00m requirements:\n\u001b[1;32m    129\u001b[0m     \u001b[38;5;28;01mif\u001b[39;00m \u001b[38;5;129;01mnot\u001b[39;00m arr\u001b[38;5;241m.\u001b[39mflags[prop]:\n",
      "\u001b[0;31mValueError\u001b[0m: setting an array element with a sequence. The requested array would exceed the maximum number of dimension of 32."
     ]
    }
   ],
   "source": [
    "import pandas as pd\n",
    "from statsmodels.tsa.stattools import adfuller\n",
    "\n",
    "# Load your time series data\n",
    "# For demonstration, let's assume you have a pandas Series `ts` with your time series data.\n",
    "# ts = pd.read_csv('path_to_your_data.csv', usecols=['column_of_interest'], squeeze=True)\n",
    "\n",
    "# Convert the column to a pandas Series if it's not already (assuming the column name is 'your_time_series_column'):\n",
    "# ts = pd.Series(df['your_time_series_column'].values)\n",
    "\n",
    "# Perform the Augmented Dickey-Fuller test\n",
    "adf_test = adfuller(ts)\n",
    "\n",
    "print('ADF Statistic: %f' % adf_test[0])\n",
    "print('p-value: %f' % adf_test[1])\n",
    "print('Critical Values:')\n",
    "for key, value in adf_test[4].items():\n",
    "    print('\\t%s: %.3f' % (key, value))\n",
    "\n",
    "# Interpret the results based on the p-value and critical values\n",
    "if adf_test[1] < 0.05:\n",
    "    print(\"The time series is stationary.\")\n",
    "else:\n",
    "    print(\"The time series is not stationary.\")\n"
   ]
  },
  {
   "cell_type": "code",
   "execution_count": 19,
   "id": "b8a62fcf-6ad7-445f-b653-7ff6a501b336",
   "metadata": {},
   "outputs": [
    {
     "data": {
      "text/plain": [
       "<Axes: xlabel='date'>"
      ]
     },
     "execution_count": 19,
     "metadata": {},
     "output_type": "execute_result"
    },
    {
     "data": {
      "image/png": "[encoded data removed]",
      "text/plain": [
       "<Figure size 640x480 with 1 Axes>"
      ]
     },
     "metadata": {
      "image/png": {
       "height": 430,
       "width": 544
      }
     },
     "output_type": "display_data"
    }
   ],
   "source": [
    "train, val = ts_scaled.split_after(0.92)\n",
    "train.plot(label=\"training\")\n",
    "val.plot(label=\"validation\")"
   ]
  },
  {
   "cell_type": "markdown",
   "id": "ef7a9eb2-acb4-426a-9387-d8801bafda6e",
   "metadata": {},
   "source": [
    "## Using N-BEATS model\n",
    "For our use case, we will go by the N-BEATS model provided as it supports multivariate time series forecasting(data having multiple features), which will allow us to perform all forecasting using a single model. So let’s load it."
   ]
  },
  {
   "cell_type": "code",
   "execution_count": 42,
   "id": "7173c9c0-9064-4598-bab3-d5d1af1656e7",
   "metadata": {},
   "outputs": [],
   "source": [
    "# importing model\n",
    "from darts.models import NBEATSModel"
   ]
  },
  {
   "cell_type": "code",
   "execution_count": 43,
   "id": "5195f12f-f063-478f-9b9e-79a1c69ae924",
   "metadata": {},
   "outputs": [],
   "source": [
    "# creating a model object\n",
    "model = NBEATSModel(input_chunk_length=24 , output_chunk_length=12, n_epochs = 100 , random_state = 15)"
   ]
  },
  {
   "cell_type": "code",
   "execution_count": 44,
   "id": "2a200906-1622-45ae-a041-73032ce37459",
   "metadata": {},
   "outputs": [
    {
     "name": "stderr",
     "output_type": "stream",
     "text": [
      "GPU available: True (mps), used: True\n",
      "TPU available: False, using: 0 TPU cores\n",
      "IPU available: False, using: 0 IPUs\n",
      "HPU available: False, using: 0 HPUs\n",
      "\n",
      "  | Name          | Type             | Params\n",
      "---------------------------------------------------\n",
      "0 | criterion     | MSELoss          | 0     \n",
      "1 | train_metrics | MetricCollection | 0     \n",
      "2 | val_metrics   | MetricCollection | 0     \n",
      "3 | stacks        | ModuleList       | 6.2 M \n",
      "---------------------------------------------------\n",
      "6.2 M     Trainable params\n",
      "1.4 K     Non-trainable params\n",
      "6.2 M     Total params\n",
      "24.787    Total estimated model params size (MB)\n"
     ]
    },
    {
     "data": {
      "application/vnd.jupyter.widget-view+json": {
       "model_id": "f7f192cc225946c2b77a84cdc3134112",
       "version_major": 2,
       "version_minor": 0
      },
      "text/plain": [
       "Training: |                                                                                               | 0/…"
      ]
     },
     "metadata": {},
     "output_type": "display_data"
    },
    {
     "name": "stderr",
     "output_type": "stream",
     "text": [
      "`Trainer.fit` stopped: `max_epochs=100` reached.\n"
     ]
    },
    {
     "data": {
      "text/plain": [
       "NBEATSModel(generic_architecture=True, num_stacks=30, num_blocks=1, num_layers=4, layer_widths=256, expansion_coefficient_dim=5, trend_polynomial_degree=2, dropout=0.0, activation=ReLU, input_chunk_length=24, output_chunk_length=12, n_epochs=100, random_state=15)"
      ]
     },
     "execution_count": 44,
     "metadata": {},
     "output_type": "execute_result"
    }
   ],
   "source": [
    "# fitting the model\n",
    "model.fit([ts_scaled], verbose = True)"
   ]
  },
  {
   "cell_type": "markdown",
   "id": "695dc032-2cdd-425a-9901-2e69b8ed5414",
   "metadata": {},
   "source": [
    "## Predict Results +  Evaluation\n",
    "MAPE - Mean Average Precession Error"
   ]
  },
  {
   "cell_type": "code",
   "execution_count": 45,
   "id": "90ba5f3a-f9e3-4315-a021-055c577fc1fe",
   "metadata": {},
   "outputs": [],
   "source": [
    "# imports\n",
    "from darts.metrics import mape"
   ]
  },
  {
   "cell_type": "code",
   "execution_count": 46,
   "id": "1f4d7c4a-675f-43b1-9d51-97f99662ea58",
   "metadata": {},
   "outputs": [
    {
     "name": "stderr",
     "output_type": "stream",
     "text": [
      "GPU available: True (mps), used: True\n",
      "TPU available: False, using: 0 TPU cores\n",
      "IPU available: False, using: 0 IPUs\n",
      "HPU available: False, using: 0 HPUs\n"
     ]
    },
    {
     "data": {
      "application/vnd.jupyter.widget-view+json": {
       "model_id": "3415580740484946b29688ee828c03c2",
       "version_major": 2,
       "version_minor": 0
      },
      "text/plain": [
       "Predicting: |                                                                                             | 0/…"
      ]
     },
     "metadata": {},
     "output_type": "display_data"
    },
    {
     "name": "stdout",
     "output_type": "stream",
     "text": [
      "Mape = nan%\n"
     ]
    },
    {
     "name": "stderr",
     "output_type": "stream",
     "text": [
      "/Users/janduplessis/.pyenv/versions/3.10.6/envs/inforcast/lib/python3.10/site-packages/numpy/core/fromnumeric.py:3504: RuntimeWarning: Mean of empty slice.\n",
      "  return _methods._mean(a, axis=axis, dtype=dtype,\n",
      "/Users/janduplessis/.pyenv/versions/3.10.6/envs/inforcast/lib/python3.10/site-packages/numpy/core/_methods.py:129: RuntimeWarning: invalid value encountered in divide\n",
      "  ret = ret.dtype.type(ret / rcount)\n"
     ]
    }
   ],
   "source": [
    "pred_vacc = model.predict(n = 24, series = ts_scaled)\n",
    "\n",
    "print(\"Mape = {:.2f}%\".format(mape(ts_scaled , pred_vacc)))"
   ]
  },
  {
   "cell_type": "code",
   "execution_count": 47,
   "id": "d14fd9fe-85a2-4896-a9ac-bdccaa00eee0",
   "metadata": {},
   "outputs": [
    {
     "name": "stdout",
     "output_type": "stream",
     "text": [
      "Mape = nan%\n"
     ]
    },
    {
     "name": "stderr",
     "output_type": "stream",
     "text": [
      "/Users/janduplessis/.pyenv/versions/3.10.6/envs/inforcast/lib/python3.10/site-packages/numpy/core/fromnumeric.py:3504: RuntimeWarning: Mean of empty slice.\n",
      "  return _methods._mean(a, axis=axis, dtype=dtype,\n",
      "/Users/janduplessis/.pyenv/versions/3.10.6/envs/inforcast/lib/python3.10/site-packages/numpy/core/_methods.py:129: RuntimeWarning: invalid value encountered in divide\n",
      "  ret = ret.dtype.type(ret / rcount)\n"
     ]
    },
    {
     "data": {
      "image/png": "[encoded data removed]",
      "text/plain": [
       "<Figure size 640x480 with 1 Axes>"
      ]
     },
     "metadata": {
      "image/png": {
       "height": 430,
       "width": 544
      }
     },
     "output_type": "display_data"
    }
   ],
   "source": [
    "# plotting results\n",
    "ts_scaled.plot(label = \"actual\")\n",
    "pred_vacc.plot(label = \"forecasted\") # validation data set\n",
    "plt.legend()\n",
    "\n",
    "print(\"Mape = {:.2f}%\".format(mape(train , pred_vacc)))"
   ]
  },
  {
   "cell_type": "code",
   "execution_count": null,
   "id": "3513deaa-22a4-4899-a552-43a8294cf1fa",
   "metadata": {},
   "outputs": [],
   "source": []
  },
  {
   "cell_type": "code",
   "execution_count": 48,
   "id": "8f14c754-412d-4eb2-8624-9b1f889d9efe",
   "metadata": {},
   "outputs": [
    {
     "name": "stderr",
     "output_type": "stream",
     "text": [
      "ImportError: The `Prophet` module could not be imported. To enable Prophet support in Darts, follow the detailed instructions in the installation guide: https://github.com/unit8co/darts/blob/master/INSTALL.md\n"
     ]
    },
    {
     "ename": "ImportError",
     "evalue": "The `Prophet` module could not be imported. To enable Prophet support in Darts, follow the detailed instructions in the installation guide: https://github.com/unit8co/darts/blob/master/INSTALL.md",
     "output_type": "error",
     "traceback": [
      "\u001b[0;31m---------------------------------------------------------------------------\u001b[0m",
      "\u001b[0;31mImportError\u001b[0m                               Traceback (most recent call last)",
      "Cell \u001b[0;32mIn[48], line 14\u001b[0m\n\u001b[1;32m     11\u001b[0m ts \u001b[38;5;241m=\u001b[39m TimeSeries\u001b[38;5;241m.\u001b[39mfrom_dataframe(time_s, value_cols\u001b[38;5;241m=\u001b[39m\u001b[38;5;124m'\u001b[39m\u001b[38;5;124mcount\u001b[39m\u001b[38;5;124m'\u001b[39m)\n\u001b[1;32m     13\u001b[0m \u001b[38;5;66;03m# Initialize the Prophet model\u001b[39;00m\n\u001b[0;32m---> 14\u001b[0m model \u001b[38;5;241m=\u001b[39m \u001b[43mProphet\u001b[49m\u001b[43m(\u001b[49m\u001b[43m)\u001b[49m\n\u001b[1;32m     16\u001b[0m \u001b[38;5;66;03m# Fit the model to the time series\u001b[39;00m\n\u001b[1;32m     17\u001b[0m model\u001b[38;5;241m.\u001b[39mfit(ts)\n",
      "File \u001b[0;32m~/.pyenv/versions/3.10.6/envs/inforcast/lib/python3.10/site-packages/darts/models/utils.py:22\u001b[0m, in \u001b[0;36mNotImportedModule.__call__\u001b[0;34m(self, *args, **kwargs)\u001b[0m\n\u001b[1;32m     21\u001b[0m \u001b[38;5;28;01mdef\u001b[39;00m \u001b[38;5;21m__call__\u001b[39m(\u001b[38;5;28mself\u001b[39m, \u001b[38;5;241m*\u001b[39margs, \u001b[38;5;241m*\u001b[39m\u001b[38;5;241m*\u001b[39mkwargs):\n\u001b[0;32m---> 22\u001b[0m     \u001b[43mraise_log\u001b[49m\u001b[43m(\u001b[49m\u001b[38;5;167;43;01mImportError\u001b[39;49;00m\u001b[43m(\u001b[49m\u001b[38;5;28;43mself\u001b[39;49m\u001b[38;5;241;43m.\u001b[39;49m\u001b[43merror_message\u001b[49m\u001b[43m)\u001b[49m\u001b[43m,\u001b[49m\u001b[43m \u001b[49m\u001b[43mlogger\u001b[49m\u001b[38;5;241;43m=\u001b[39;49m\u001b[43mlogger\u001b[49m\u001b[43m)\u001b[49m\n",
      "File \u001b[0;32m~/.pyenv/versions/3.10.6/envs/inforcast/lib/python3.10/site-packages/darts/logging.py:129\u001b[0m, in \u001b[0;36mraise_log\u001b[0;34m(exception, logger)\u001b[0m\n\u001b[1;32m    126\u001b[0m message \u001b[38;5;241m=\u001b[39m \u001b[38;5;28mstr\u001b[39m(exception)\n\u001b[1;32m    127\u001b[0m logger\u001b[38;5;241m.\u001b[39merror(exception_type \u001b[38;5;241m+\u001b[39m \u001b[38;5;124m\"\u001b[39m\u001b[38;5;124m: \u001b[39m\u001b[38;5;124m\"\u001b[39m \u001b[38;5;241m+\u001b[39m message)\n\u001b[0;32m--> 129\u001b[0m \u001b[38;5;28;01mraise\u001b[39;00m exception\n",
      "\u001b[0;31mImportError\u001b[0m: The `Prophet` module could not be imported. To enable Prophet support in Darts, follow the detailed instructions in the installation guide: https://github.com/unit8co/darts/blob/master/INSTALL.md"
     ]
    }
   ],
   "source": [
    "from darts import TimeSeries\n",
    "from darts.models import Prophet\n",
    "import pandas as pd\n",
    "\n",
    "# Assuming you have a DataFrame `df` with a datetime index and a column 'y' with the values to forecast\n",
    "# df = pd.read_csv('your_data.csv')\n",
    "# df['time'] = pd.to_datetime(df['time'])  # Make sure that your time column is a datetime object\n",
    "# df.set_index('time', inplace=True)\n",
    "\n",
    "# Create a TimeSeries object from the DataFrame for Darts\n",
    "ts = TimeSeries.from_dataframe(time_s, value_cols='count')\n",
    "\n",
    "# Initialize the Prophet model\n",
    "model = Prophet()\n",
    "\n",
    "# Fit the model to the time series\n",
    "model.fit(ts)\n",
    "\n",
    "# Predict the next 12 months (assuming your data is monthly, adjust the number accordingly)\n",
    "future = model.predict(n=12)\n",
    "\n",
    "# Plot the forecast\n",
    "import matplotlib.pyplot as plt\n",
    "\n",
    "ts[-36:].plot(label='actual')  # Plot the last 3 years of actual data\n",
    "future.plot(label='forecast')  # Plot the forecast\n",
    "plt.legend()\n",
    "plt.show()"
   ]
  },
  {
   "cell_type": "code",
   "execution_count": null,
   "id": "61893ee4-3ed1-4779-925d-1a207b84d53c",
   "metadata": {},
   "outputs": [],
   "source": []
  },
  {
   "cell_type": "code",
   "execution_count": null,
   "id": "d1ce8ad3-edf4-4860-ba43-106b4a600df5",
   "metadata": {},
   "outputs": [],
   "source": []
  },
  {
   "cell_type": "code",
   "execution_count": null,
   "id": "cce972fa-a0b8-48cd-93da-cab4b0e93a88",
   "metadata": {},
   "outputs": [],
   "source": []
  },
  {
   "cell_type": "code",
   "execution_count": null,
   "id": "453b695f-9bc5-4bac-8bc1-9cd770c2fb57",
   "metadata": {},
   "outputs": [],
   "source": []
  },
  {
   "cell_type": "code",
   "execution_count": null,
   "id": "427d86c5-ef27-41db-b444-3e22f68ab1d2",
   "metadata": {},
   "outputs": [],
   "source": [
    "from darts.utils.statistics import plot_acf, check_seasonality\n",
    "plot_acf(train, m=12, alpha=0.05)"
   ]
  },
  {
   "cell_type": "code",
   "execution_count": null,
   "id": "ab14c5ae-2949-4a3d-995b-6f2f16de0923",
   "metadata": {},
   "outputs": [],
   "source": [
    "for m in range(2, 25):\n",
    "    is_seasonal, period = check_seasonality(train, m=m, alpha=0.05)\n",
    "    if is_seasonal:\n",
    "        print(\"There is seasonality of order {}.\".format(period))"
   ]
  },
  {
   "cell_type": "code",
   "execution_count": null,
   "id": "e10f5589-ebe9-4271-ad62-8f4e756839e9",
   "metadata": {},
   "outputs": [],
   "source": [
    "from darts.models import NaiveSeasonal\n",
    "\n",
    "naive_model = NaiveSeasonal(K=1)\n",
    "naive_model.fit(train)\n",
    "naive_forecast = naive_model.predict(60)\n",
    "\n",
    "series.plot(label=\"actual\")\n",
    "naive_forecast.plot(label=\"naive forecast (K=1)\")"
   ]
  },
  {
   "cell_type": "code",
   "execution_count": null,
   "id": "e0540659-d624-4b0e-958c-30392134e1b0",
   "metadata": {},
   "outputs": [],
   "source": [
    "seasonal_model = NaiveSeasonal(K=12)\n",
    "seasonal_model.fit(train)\n",
    "seasonal_forecast = seasonal_model.predict(60)\n",
    "\n",
    "series.plot(label=\"actual\")\n",
    "seasonal_forecast.plot(label=\"naive forecast (K=12)\")\n",
    "plt.show()"
   ]
  },
  {
   "cell_type": "code",
   "execution_count": null,
   "id": "3f90d9b9-0370-4d5c-89eb-4d5860abcd2a",
   "metadata": {},
   "outputs": [],
   "source": [
    "from darts.models import NaiveDrift\n",
    "\n",
    "drift_model = NaiveDrift()\n",
    "drift_model.fit(train)\n",
    "drift_forecast = drift_model.predict(60)\n",
    "\n",
    "combined_forecast = drift_forecast + seasonal_forecast - train.last_value()\n",
    "\n",
    "series.plot()\n",
    "combined_forecast.plot(label=\"combined\")\n",
    "drift_forecast.plot(label=\"drift\")\n",
    "plt.show()"
   ]
  },
  {
   "cell_type": "code",
   "execution_count": null,
   "id": "bf19d7b1-338c-4843-8bd1-dda9d27c804f",
   "metadata": {},
   "outputs": [],
   "source": [
    "from darts.metrics import mape\n",
    "\n",
    "print(\n",
    "    \"Mean absolute percentage error for the combined naive drift + seasonal: {:.2f}%.\".format(\n",
    "        mape(series, combined_forecast)\n",
    "    )\n",
    ")"
   ]
  },
  {
   "cell_type": "code",
   "execution_count": null,
   "id": "ffb5fff4-e995-4be8-bf7a-87399056dee8",
   "metadata": {},
   "outputs": [],
   "source": [
    "from darts.models import ExponentialSmoothing, TBATS, AutoARIMA, Theta\n",
    "\n",
    "\n",
    "def eval_model(model):\n",
    "    model.fit(train)\n",
    "    forecast = model.predict(len(val))\n",
    "    print(\"model {} obtains MAPE: {:.2f}%\".format(model, mape(val, forecast)))\n",
    "\n",
    "\n",
    "eval_model(ExponentialSmoothing())\n",
    "eval_model(TBATS())\n",
    "eval_model(AutoARIMA())\n",
    "eval_model(Theta())"
   ]
  },
  {
   "cell_type": "code",
   "execution_count": null,
   "id": "88a680a7-52a2-4a33-94b7-2df4df38c8d4",
   "metadata": {},
   "outputs": [],
   "source": [
    "historical_fcast_theta = best_theta_model.historical_forecasts(\n",
    "    series, start=0.6, forecast_horizon=3, verbose=True\n",
    ")\n",
    "\n",
    "series.plot(label=\"data\")\n",
    "historical_fcast_theta.plot(label=\"backtest 3-months ahead forecast (Theta)\")\n",
    "print(\"sMAPE = {:.2f}%\".format(mape(historical_fcast_theta, series)))"
   ]
  },
  {
   "cell_type": "code",
   "execution_count": null,
   "id": "ef0330f5-dd2c-40ec-95ea-9364f4b7af97",
   "metadata": {},
   "outputs": [],
   "source": [
    "model_es = ExponentialSmoothing(seasonal_periods=12)\n",
    "historical_fcast_es = model_es.historical_forecasts(\n",
    "    series, start=0.4, forecast_horizon=12, verbose=True\n",
    ")\n",
    "\n",
    "series.plot(label=\"data\")\n",
    "historical_fcast_es.plot(label=\"backtest 3-months ahead forecast (Exp. Smoothing)\")\n",
    "print(\"MAPE = {:.2f}%\".format(mape(historical_fcast_es, series)))"
   ]
  },
  {
   "cell_type": "code",
   "execution_count": null,
   "id": "85ea6ff0-08df-45e7-a617-1da6445b8d5b",
   "metadata": {},
   "outputs": [],
   "source": [
    "from darts.utils.statistics import plot_residuals_analysis\n",
    "\n",
    "plot_residuals_analysis(model_es.residuals(series))\n",
    "plt.show()"
   ]
  },
  {
   "cell_type": "code",
   "execution_count": null,
   "id": "9e3adfb3-b753-48ed-a5fb-327232a18ddd",
   "metadata": {},
   "outputs": [],
   "source": [
    "model_es = ExponentialSmoothing()\n",
    "model_es.fit(train)\n",
    "probabilistic_forecast = model_es.predict(len(val), num_samples=500)\n",
    "\n",
    "series.plot(label=\"actual\")\n",
    "probabilistic_forecast.plot(label=\"probabilistic forecast\")\n",
    "plt.legend()\n",
    "plt.show()"
   ]
  },
  {
   "cell_type": "code",
   "execution_count": null,
   "id": "8a2312d9-1154-4b4b-890c-b4029c0a48da",
   "metadata": {},
   "outputs": [],
   "source": [
    "from darts.models import ExponentialSmoothing, TBATS, AutoARIMA, Theta\n",
    "\n",
    "\n",
    "def eval_model(model):\n",
    "    model.fit(train)\n",
    "    forecast = model.predict(len(val))\n",
    "    print(\"model {} obtains MAPE: {:.2f}%\".format(model, mape(val, forecast)))\n",
    "\n",
    "\n",
    "eval_model(ExponentialSmoothing())\n",
    "eval_model(TBATS())\n",
    "eval_model(AutoARIMA())\n",
    "eval_model(Theta())"
   ]
  },
  {
   "cell_type": "code",
   "execution_count": null,
   "id": "f4e207b9-c60d-4ff8-8a66-d5480f9099fa",
   "metadata": {},
   "outputs": [],
   "source": [
    "import numpy as np\n",
    "# Search for the best theta parameter, by trying 50 different values\n",
    "thetas = 2 - np.linspace(-10, 10, 50)\n",
    "\n",
    "best_mape = float(\"inf\")\n",
    "best_theta = 0\n",
    "\n",
    "for theta in thetas:\n",
    "    model = Theta(theta)\n",
    "    model.fit(train)\n",
    "    pred_theta = model.predict(len(val))\n",
    "    res = mape(val, pred_theta)\n",
    "\n",
    "    if res < best_mape:\n",
    "        best_mape = res\n",
    "        best_theta = theta"
   ]
  },
  {
   "cell_type": "code",
   "execution_count": null,
   "id": "47f11faf-ddc4-4a9f-923f-cfd60dbdf1a7",
   "metadata": {},
   "outputs": [],
   "source": [
    "best_theta_model = Theta(best_theta)\n",
    "best_theta_model.fit(train)\n",
    "pred_best_theta = best_theta_model.predict(len(val))\n",
    "\n",
    "print(\n",
    "    \"The MAPE is: {:.2f}, with theta = {}.\".format(\n",
    "        mape(val, pred_best_theta), best_theta\n",
    "    )\n",
    ")"
   ]
  },
  {
   "cell_type": "code",
   "execution_count": null,
   "id": "eeb61301-1fe7-4d5a-ae81-df90120fd3c8",
   "metadata": {},
   "outputs": [],
   "source": [
    "train.plot(label=\"train\")\n",
    "val.plot(label=\"true\")\n",
    "pred_best_theta.plot(label=\"prediction\")"
   ]
  },
  {
   "cell_type": "code",
   "execution_count": null,
   "id": "ce87c32a-10c8-4d5e-80ee-50e42113e267",
   "metadata": {},
   "outputs": [],
   "source": [
    "historical_fcast_theta = best_theta_model.historical_forecasts(\n",
    "    series, start=0.6, forecast_horizon=3, verbose=True\n",
    ")\n",
    "\n",
    "series.plot(label=\"data\")\n",
    "historical_fcast_theta.plot(label=\"backtest 3-months ahead forecast (Theta)\")\n",
    "print(\"MAPE = {:.2f}%\".format(mape(historical_fcast_theta, series)))"
   ]
  },
  {
   "cell_type": "code",
   "execution_count": null,
   "id": "b237f289-664e-4b10-b107-044940a51de4",
   "metadata": {},
   "outputs": [],
   "source": [
    "best_theta_model = Theta(best_theta)\n",
    "\n",
    "raw_errors = best_theta_model.backtest(\n",
    "    series, start=0.6, forecast_horizon=3, metric=mape, reduction=None, verbose=True\n",
    ")\n",
    "\n",
    "from darts.utils.statistics import plot_hist\n",
    "\n",
    "plot_hist(\n",
    "    raw_errors,\n",
    "    bins=np.arange(0, max(raw_errors), 1),\n",
    "    title=\"Individual backtest error scores (histogram)\",\n",
    ")"
   ]
  },
  {
   "cell_type": "code",
   "execution_count": null,
   "id": "f743bfab-f7c5-481c-afb7-c5ecdff16fcc",
   "metadata": {},
   "outputs": [],
   "source": [
    "from darts.models import RegressionModel\n",
    "from sklearn.linear_model import BayesianRidge\n",
    "\n",
    "model = RegressionModel(lags=72, lags_future_covariates=[-6, 0], model=BayesianRidge())\n",
    "\n",
    "model.fit(\n",
    "    [train_air_scaled, train_milk_scaled], future_covariates=[air_covs, milk_covs]\n",
    ");"
   ]
  },
  {
   "cell_type": "code",
   "execution_count": null,
   "id": "f9031158-c1c6-4fe5-a349-06979527bda9",
   "metadata": {},
   "outputs": [],
   "source": [
    "model_es = ExponentialSmoothing()\n",
    "model_es.fit(train)\n",
    "probabilistic_forecast = model_es.predict(len(val), num_samples=500)\n",
    "\n",
    "series.plot(label=\"actual\")\n",
    "probabilistic_forecast.plot(label=\"probabilistic forecast\")\n",
    "plt.legend()\n",
    "plt.show()"
   ]
  },
  {
   "cell_type": "markdown",
   "id": "9d76aadc-546c-4fca-aed0-e79b0d6b80a4",
   "metadata": {},
   "source": [
    "# **Standard Scaling** with Darts"
   ]
  },
  {
   "cell_type": "code",
   "execution_count": null,
   "id": "b3bcd6a7-4fef-4338-bce3-234d9e009c23",
   "metadata": {},
   "outputs": [],
   "source": [
    "from darts.dataprocessing.transformers import Scaler\n",
    "\n",
    "# creating scaler object\n",
    "scaler_vacc = Scaler()\n",
    "# prefroming the scaling\n",
    "ts_scaled = scaler_vacc.fit_transform(series)\n",
    "# plottingair_ds.plot(label=\"Number Of Passengers\")\n",
    "ts_scaled.plot(label = \"Vaccines Scaled\")\n",
    "plt.legend();"
   ]
  },
  {
   "cell_type": "code",
   "execution_count": null,
   "id": "4dcd9e0f-aebb-426a-9d5c-d40c34c89913",
   "metadata": {},
   "outputs": [],
   "source": [
    "from darts.models import TCNModel\n",
    "from darts.utils.likelihood_models import LaplaceLikelihood\n",
    "\n",
    "model = TCNModel(\n",
    "    input_chunk_length=24,\n",
    "    output_chunk_length=12,\n",
    "    random_state=42,\n",
    "    likelihood=LaplaceLikelihood(),\n",
    ")\n",
    "\n",
    "model.fit(train, epochs=400, verbose=True);"
   ]
  },
  {
   "cell_type": "code",
   "execution_count": null,
   "id": "b95ab8a2-d8d2-4642-9303-41572e94d0af",
   "metadata": {},
   "outputs": [],
   "source": [
    "over_ts.reset_index(inplace=True)"
   ]
  },
  {
   "cell_type": "code",
   "execution_count": null,
   "id": "4f8cd9d8-f064-4206-85e6-5a38f0602fc6",
   "metadata": {},
   "outputs": [],
   "source": [
    "over_ts"
   ]
  },
  {
   "cell_type": "code",
   "execution_count": null,
   "id": "505980ef-a256-4db9-be17-5fe48e185f32",
   "metadata": {},
   "outputs": [],
   "source": [
    "over_ts.info()"
   ]
  },
  {
   "cell_type": "code",
   "execution_count": null,
   "id": "a534d089-4815-4c61-b92b-4be2fd47d0f1",
   "metadata": {},
   "outputs": [],
   "source": [
    "series =  TimeSeries.from_dataframe(over_ts, time_col='date', value_cols='count')"
   ]
  },
  {
   "cell_type": "code",
   "execution_count": null,
   "id": "586e07b7-4ee6-49b7-8682-122db9849331",
   "metadata": {},
   "outputs": [],
   "source": [
    "train, val = series.split_after(0.90)\n",
    "train.plot(label=\"training\")\n",
    "val.plot(label=\"validation\")"
   ]
  },
  {
   "cell_type": "code",
   "execution_count": null,
   "id": "4d45661b-b7f3-4961-b325-c61d46625ff2",
   "metadata": {},
   "outputs": [],
   "source": [
    "from darts import TimeSeries\n",
    "from darts.models import Prophet\n",
    "from darts.utils.timeseries_generation import datetime_attribute_timeseries\n",
    "\n",
    "# Assuming 'series' is your TimeSeries object.\n",
    "\n",
    "# Create the Prophet model\n",
    "model = Prophet()\n",
    "\n",
    "# Fit the model to your series\n",
    "model.fit(series)\n",
    "\n",
    "# Define the length of the forecast horizon\n",
    "# For example, to predict the next 24 months:\n",
    "forecast_horizon = 24\n",
    "series = series.resample('MS')\n",
    "# Create a future time series (if your series has a DateTime index)\n",
    "future_times = series.time_index[-1] + series.freq * np.arange(1, forecast_horizon + 1)\n",
    "future_series = datetime_attribute_timeseries(future_times, attribute='day', one_hot=False)\n",
    "\n",
    "# Predict the future\n",
    "forecast = model.predict(future_series)"
   ]
  },
  {
   "cell_type": "code",
   "execution_count": null,
   "id": "85fab524-9870-40ac-966f-d80099a073a1",
   "metadata": {},
   "outputs": [],
   "source": []
  },
  {
   "cell_type": "markdown",
   "id": "3bb5c10d-d83e-426d-960b-af7367dcd104",
   "metadata": {},
   "source": [
    "# Prediction using **ExponentialSmoothing**"
   ]
  },
  {
   "cell_type": "code",
   "execution_count": null,
   "id": "dfff58a0-1cd8-42b9-8b72-ff60deb0e29d",
   "metadata": {},
   "outputs": [],
   "source": [
    "data = pd.read_csv('../data/influenzaSMW.csv')"
   ]
  },
  {
   "cell_type": "code",
   "execution_count": null,
   "id": "ad72d77b-dc33-49ba-a743-f8494d31291e",
   "metadata": {},
   "outputs": [],
   "source": [
    "data.head()"
   ]
  },
  {
   "cell_type": "code",
   "execution_count": null,
   "id": "4d785999-815b-4374-9b21-9867dab4f76c",
   "metadata": {},
   "outputs": [],
   "source": []
  },
  {
   "cell_type": "code",
   "execution_count": null,
   "id": "82059e69-51f3-4555-9086-ff783c2e0b28",
   "metadata": {},
   "outputs": [],
   "source": [
    "practice_code = \"E87013\""
   ]
  },
  {
   "cell_type": "code",
   "execution_count": null,
   "id": "4ae93781-d084-4bcd-b497-74e1191e334a",
   "metadata": {},
   "outputs": [],
   "source": [
    "# Let's aggregate the data by month and count the number of vaccination events\n",
    "data = data[data['Event done at ID'] == practice_code]\n",
    "# Converting 'Event date' to datetime format\n",
    "data['Event date'] = pd.to_datetime(data['Event date'], format='%d-%b-%Y')\n",
    "data['Date of birth'] = pd.to_datetime(data['Date of birth'], format='%d-%b-%Y')\n",
    "data['age_at_vaccine'] = data['Event date'].dt.year - data['Date of birth'].dt.year\n",
    "data = data[data['age_at_vaccine']> 18]\n",
    "# Aggregating data by month\n",
    "monthly_data = data.groupby(pd.Grouper(key='Event date', freq='M')).size()\n",
    "\n",
    "# Resetting the index to have 'Event date' as a column\n",
    "monthly_data = monthly_data.reset_index()\n",
    "\n",
    "# Renaming columns for clarity\n",
    "monthly_data.columns = ['Month', 'Vaccination Count']\n",
    "\n",
    "# Showing the first few rows of the aggregated monthly data\n",
    "monthly_data.head()"
   ]
  },
  {
   "cell_type": "code",
   "execution_count": null,
   "id": "8d2cfd96-482b-43e9-8446-eefe5101339e",
   "metadata": {},
   "outputs": [],
   "source": [
    "from darts import TimeSeries\n",
    "\n",
    "# Convert the aggregated data to a TimeSeries object\n",
    "ts = TimeSeries.from_dataframe(monthly_data, 'Month', 'Vaccination Count')"
   ]
  },
  {
   "cell_type": "code",
   "execution_count": null,
   "id": "6dd50846-9335-440d-803c-7b9be8f34b85",
   "metadata": {},
   "outputs": [],
   "source": [
    "# Split the data (for example, using the last 12 months for validation)\n",
    "train, val = ts.split_before(pd.Timestamp('2023-01-31'))"
   ]
  },
  {
   "cell_type": "code",
   "execution_count": null,
   "id": "f1794085-b1f7-4aa7-b51b-923e0ba82c7c",
   "metadata": {},
   "outputs": [],
   "source": [
    "from darts.models import ExponentialSmoothing\n",
    "\n",
    "# Create the Exponential Smoothing model\n",
    "model = ExponentialSmoothing()\n",
    "\n",
    "# Train the model on the training set\n",
    "model.fit(train)"
   ]
  },
  {
   "cell_type": "code",
   "execution_count": null,
   "id": "d579ba02-de62-4a8f-8ac6-b450dca40acb",
   "metadata": {},
   "outputs": [],
   "source": [
    "prediction = model.predict(len(val))\n",
    "\n",
    "# Compare predictions with the actual values\n",
    "import matplotlib.pyplot as plt\n",
    "\n",
    "plt.figure(figsize=(10, 6))\n",
    "train.plot(label='Training data')\n",
    "val.plot(label='Validation data')\n",
    "prediction.plot(label='Forecast')\n",
    "plt.title('Vaccination Forecast')\n",
    "plt.legend()"
   ]
  },
  {
   "cell_type": "code",
   "execution_count": null,
   "id": "ea408d49-4d7b-4592-871c-f00a2aded510",
   "metadata": {},
   "outputs": [],
   "source": [
    "from darts.metrics import mape, mae, rmse\n",
    "\n",
    "# Calculate Mean Absolute Percentage Error (MAPE)\n",
    "#mape_score = mape(val, prediction)\n",
    "\n",
    "# Calculate Mean Absolute Error (MAE)\n",
    "mae_score = mae(val, prediction)\n",
    "\n",
    "# Calculate Root Mean Squared Error (RMSE)\n",
    "rmse_score = rmse(val, prediction)\n",
    "\n",
    "(mae_score, rmse_score)\n"
   ]
  },
  {
   "cell_type": "code",
   "execution_count": null,
   "id": "36311576-0656-46b1-9a25-aa7eb265772a",
   "metadata": {},
   "outputs": [],
   "source": [
    "from darts.models import ExponentialSmoothing, TBATS, AutoARIMA, Theta\n",
    "from darts.metrics import mape, mae, rmse\n",
    "\n",
    "def eval_model(model, train, val):\n",
    "    model.fit(train)\n",
    "    forecast = model.predict(len(val))\n",
    "    print(\"model {} obtains MAE: {:.2f}\".format(model, mae(val, forecast)))\n",
    "    print(\"model {} obtains RMSE: {:.2f}\".format(model, rmse(val, forecast)))\n",
    "\n",
    "# Assuming 'train' and 'val' are defined TimeSeries objects for your training and validation datasets\n",
    "eval_model(ExponentialSmoothing(), train, val)\n",
    "eval_model(TBATS(), train, val)\n",
    "eval_model(AutoARIMA(), train, val)\n",
    "eval_model(Theta(), train, val)"
   ]
  },
  {
   "cell_type": "code",
   "execution_count": null,
   "id": "9c582d5d-93b9-4ec5-a989-8b4bdd5d09cd",
   "metadata": {},
   "outputs": [],
   "source": [
    "import pandas as pd\n",
    "\n",
    "# Assuming your last date in the dataset is in the format YYYY-MM-DD\n",
    "last_date_in_dataset = pd.to_datetime(monthly_data['Month'].iloc[-1])\n",
    "\n",
    "# Target end date (end of January 2025)\n",
    "end_date = pd.Timestamp('2025-01-31')\n",
    "\n",
    "# Calculate the number of months to forecast\n",
    "months_to_forecast = (end_date.year - last_date_in_dataset.year) * 12 + end_date.month - last_date_in_dataset.month\n"
   ]
  },
  {
   "cell_type": "code",
   "execution_count": null,
   "id": "40d4e8af-d239-4a51-9caf-c62789ec779a",
   "metadata": {},
   "outputs": [],
   "source": [
    "months_to_forecast"
   ]
  },
  {
   "cell_type": "code",
   "execution_count": null,
   "id": "94412d19-7a37-4d96-828d-1da6ee56bb77",
   "metadata": {},
   "outputs": [],
   "source": [
    "# Forecast the future values\n",
    "future_forecast = model.predict(13)\n"
   ]
  },
  {
   "cell_type": "code",
   "execution_count": null,
   "id": "ce2417f4-ad7b-4b87-b494-fd52b563ae16",
   "metadata": {},
   "outputs": [],
   "source": [
    "future_forecast"
   ]
  },
  {
   "cell_type": "code",
   "execution_count": null,
   "id": "75b469c8-9314-4a23-9595-0e3bedd37c76",
   "metadata": {},
   "outputs": [],
   "source": [
    "# Plotting the forecast along with the historical data\n",
    "plt.figure(figsize=(10, 6))\n",
    "ts.plot(label='Historical Data')\n",
    "future_forecast.plot(label='Forecast until Jan 2025')\n",
    "plt.title('Vaccination Forecast until Jan 2025')\n",
    "plt.legend()\n",
    "plt.show()\n"
   ]
  },
  {
   "cell_type": "code",
   "execution_count": null,
   "id": "c88ff3bf-eae4-493a-bab0-0aa1b736063b",
   "metadata": {},
   "outputs": [],
   "source": [
    "# Convert the TimeSeries forecast to a pandas Series\n",
    "forecast_series = future_forecast.pd_series()\n",
    "\n",
    "# Sum the forecasted values to get the total number of predicted vaccinations\n",
    "total_vaccinations_predicted = forecast_series.sum()\n",
    "\n",
    "print(f\"Total number of predicted vaccinations until Jan 2025: {total_vaccinations_predicted}\")\n"
   ]
  },
  {
   "cell_type": "code",
   "execution_count": null,
   "id": "c22140c3-7f69-4527-bcc5-53e30a5ddfd2",
   "metadata": {},
   "outputs": [],
   "source": [
    "import itertools\n",
    "from darts.models import ExponentialSmoothing\n",
    "from darts.metrics import mae  # or any other suitable metric\n",
    "\n",
    "# Example hyperparameter ranges (adjust based on your needs)\n",
    "smoothing_level_options = [0.1, 0.5, 0.9]\n",
    "smoothing_trend_options = [0.1, 0.5, 0.9]\n",
    "smoothing_seasonal_options = [0.1, 0.5, 0.9]\n",
    "damped_trend_options = [True, False]\n",
    "\n",
    "# Create a grid of all hyperparameter combinations\n",
    "param_grid = itertools.product(\n",
    "    smoothing_level_options, \n",
    "    smoothing_trend_options, \n",
    "    smoothing_seasonal_options, \n",
    "    damped_trend_options\n",
    ")\n",
    "\n",
    "best_score = float('inf')\n",
    "best_params = None\n",
    "\n",
    "for params in param_grid:\n",
    "    model = ExponentialSmoothing(\n",
    "        smoothing_level=params[0], \n",
    "        smoothing_trend=params[1], \n",
    "        smoothing_seasonal=params[2], \n",
    "        damped_trend=params[3]\n",
    "    )\n",
    "\n",
    "    model.fit(train_series)\n",
    "    forecast = model.predict(len(val_series))\n",
    "    score = mae(val_series, forecast)\n",
    "\n",
    "    if score < best_score:\n",
    "        best_score = score\n",
    "        best_params = params\n",
    "\n",
    "print(f\"Best Parameters: {best_params}, MAE: {best_score}\")\n"
   ]
  },
  {
   "cell_type": "code",
   "execution_count": null,
   "id": "c2f4b3a9-5c4c-44c0-9038-bae895366d6a",
   "metadata": {},
   "outputs": [],
   "source": []
  },
  {
   "cell_type": "code",
   "execution_count": null,
   "id": "9f8b6522-b76e-43e2-b671-23d80e5c4119",
   "metadata": {},
   "outputs": [],
   "source": []
  },
  {
   "cell_type": "code",
   "execution_count": null,
   "id": "c13baea4-9717-4ac7-b7da-648b7c8c3c13",
   "metadata": {},
   "outputs": [],
   "source": []
  },
  {
   "cell_type": "code",
   "execution_count": null,
   "id": "5941657a-e601-4f33-9e55-b73e5c4a3592",
   "metadata": {},
   "outputs": [],
   "source": []
  },
  {
   "cell_type": "code",
   "execution_count": null,
   "id": "41a256c6-ce77-4e01-bc2a-2fa2457de17c",
   "metadata": {},
   "outputs": [],
   "source": []
  },
  {
   "cell_type": "code",
   "execution_count": null,
   "id": "906f1391-740e-4fde-be0e-ea4ab8ebd48d",
   "metadata": {},
   "outputs": [],
   "source": []
  },
  {
   "cell_type": "code",
   "execution_count": null,
   "id": "5149dc82-8ac3-42cd-9ab3-1a8f73165e88",
   "metadata": {},
   "outputs": [],
   "source": []
  }
 ],
 "metadata": {
  "kernelspec": {
   "display_name": "Python 3 (ipykernel)",
   "language": "python",
   "name": "python3"
  },
  "language_info": {
   "codemirror_mode": {
    "name": "ipython",
    "version": 3
   },
   "file_extension": ".py",
   "mimetype": "text/x-python",
   "name": "python",
   "nbconvert_exporter": "python",
   "pygments_lexer": "ipython3",
   "version": "3.10.6"
  },
  "widgets": {
   "application/vnd.jupyter.widget-state+json": {
    "state": {
     "0285aa531f5742d88931f0b660ecd5dc": {
      "model_module": "@jupyter-widgets/controls",
      "model_module_version": "2.0.0",
      "model_name": "HTMLModel",
      "state": {
       "layout": "IPY_MODEL_d7b93fc076bc4627a27abdc8c6945053",
       "style": "IPY_MODEL_8706af5847eb41a5a704c65ca0df24f2",
       "value": " 8/8 [00:01&lt;00:00,  4.27it/s, train_loss=0.00112]"
      }
     },
     "0dc9a2f5e03449d09f459c96c315358d": {
      "model_module": "@jupyter-widgets/controls",
      "model_module_version": "2.0.0",
      "model_name": "HBoxModel",
      "state": {
       "children": [
        "IPY_MODEL_e91859ac26a14e6f8fbad3a3649b3b8d",
        "IPY_MODEL_105cf1556d0f43ca9b4371554bd77a6a",
        "IPY_MODEL_54b3b793088840d99872a7b8089a09f0"
       ],
       "layout": "IPY_MODEL_f2b71c37ebf641c99e73515f5e59ed0b"
      }
     },
     "0ddd567d83a14a19b2b857b53f16b200": {
      "model_module": "@jupyter-widgets/controls",
      "model_module_version": "2.0.0",
      "model_name": "HTMLModel",
      "state": {
       "layout": "IPY_MODEL_f5b47bcb46da4b0a8d40396634f84a1b",
       "style": "IPY_MODEL_0ed9ef1c530940e9976900ae433651fe",
       "value": "Predicting DataLoader 0: 100%"
      }
     },
     "0ed9ef1c530940e9976900ae433651fe": {
      "model_module": "@jupyter-widgets/controls",
      "model_module_version": "2.0.0",
      "model_name": "HTMLStyleModel",
      "state": {
       "description_width": "",
       "font_size": null,
       "text_color": null
      }
     },
     "1024a5fcf16e4b739dba8fbfe8016e0c": {
      "model_module": "@jupyter-widgets/controls",
      "model_module_version": "2.0.0",
      "model_name": "ProgressStyleModel",
      "state": {
       "description_width": ""
      }
     },
     "105cf1556d0f43ca9b4371554bd77a6a": {
      "model_module": "@jupyter-widgets/controls",
      "model_module_version": "2.0.0",
      "model_name": "FloatProgressModel",
      "state": {
       "bar_style": "success",
       "layout": "IPY_MODEL_30e8f1e379e046e686e32c698df10a53",
       "max": 1,
       "style": "IPY_MODEL_1024a5fcf16e4b739dba8fbfe8016e0c",
       "value": 1
      }
     },
     "11055a0936644fc69e1a9e56c0883463": {
      "model_module": "@jupyter-widgets/base",
      "model_module_version": "2.0.0",
      "model_name": "LayoutModel",
      "state": {
       "flex": "2"
      }
     },
     "155e2bcf8a064d4380c6f777f563fb2a": {
      "model_module": "@jupyter-widgets/controls",
      "model_module_version": "2.0.0",
      "model_name": "ProgressStyleModel",
      "state": {
       "description_width": ""
      }
     },
     "1853ba72f2d646ccb39a8cfd76c11836": {
      "model_module": "@jupyter-widgets/base",
      "model_module_version": "2.0.0",
      "model_name": "LayoutModel",
      "state": {}
     },
     "1c38fb576431451eb3e72e631780cbf2": {
      "model_module": "@jupyter-widgets/controls",
      "model_module_version": "2.0.0",
      "model_name": "HTMLStyleModel",
      "state": {
       "description_width": "",
       "font_size": null,
       "text_color": null
      }
     },
     "29dfdb3e4da6452c94b62b0d70a7efbe": {
      "model_module": "@jupyter-widgets/controls",
      "model_module_version": "2.0.0",
      "model_name": "ProgressStyleModel",
      "state": {
       "description_width": ""
      }
     },
     "2e17d8e935174650bc86fb3b0ee55460": {
      "model_module": "@jupyter-widgets/base",
      "model_module_version": "2.0.0",
      "model_name": "LayoutModel",
      "state": {
       "display": "inline-flex",
       "flex_flow": "row wrap",
       "width": "100%"
      }
     },
     "2fa1f7ba9640456cba6c3b889e5ce12b": {
      "model_module": "@jupyter-widgets/base",
      "model_module_version": "2.0.0",
      "model_name": "LayoutModel",
      "state": {}
     },
     "30e8f1e379e046e686e32c698df10a53": {
      "model_module": "@jupyter-widgets/base",
      "model_module_version": "2.0.0",
      "model_name": "LayoutModel",
      "state": {
       "flex": "2"
      }
     },
     "3415580740484946b29688ee828c03c2": {
      "model_module": "@jupyter-widgets/controls",
      "model_module_version": "2.0.0",
      "model_name": "HBoxModel",
      "state": {
       "children": [
        "IPY_MODEL_81abd483d4b147ba98d86e3153cd42cb",
        "IPY_MODEL_f629682c2bfd4cf58898d03c1d511755",
        "IPY_MODEL_8e667b49652b4faaa2fddc8b0fd8928e"
       ],
       "layout": "IPY_MODEL_5dad1e5c89d04aadae591adda0a93cca"
      }
     },
     "42645ec3c374419f9e33e5e06cb546f5": {
      "model_module": "@jupyter-widgets/controls",
      "model_module_version": "2.0.0",
      "model_name": "HBoxModel",
      "state": {
       "children": [
        "IPY_MODEL_bdecf1ca1b72488997a216ace24ef670",
        "IPY_MODEL_c18acf3c20554ba798bf3831360f0fdf",
        "IPY_MODEL_72e8555605b842f6afbf4c4352a08d09"
       ],
       "layout": "IPY_MODEL_2e17d8e935174650bc86fb3b0ee55460"
      }
     },
     "47071c6e040347e9b2272c759242f1fd": {
      "model_module": "@jupyter-widgets/controls",
      "model_module_version": "2.0.0",
      "model_name": "ProgressStyleModel",
      "state": {
       "description_width": ""
      }
     },
     "49ceed3fdbbd41e5b09373d7b721f765": {
      "model_module": "@jupyter-widgets/controls",
      "model_module_version": "2.0.0",
      "model_name": "HTMLModel",
      "state": {
       "layout": "IPY_MODEL_b62610b82ce043e7817e10af11ae81aa",
       "style": "IPY_MODEL_b2f93e586eac4399897f2329be678ee5",
       "value": "Epoch 99: 100%"
      }
     },
     "4aede369e0af4636ba7c12a8dd16ad45": {
      "model_module": "@jupyter-widgets/controls",
      "model_module_version": "2.0.0",
      "model_name": "FloatProgressModel",
      "state": {
       "bar_style": "success",
       "layout": "IPY_MODEL_11055a0936644fc69e1a9e56c0883463",
       "max": 8,
       "style": "IPY_MODEL_6ba86ee82ddc47239ff42745ca9c8f98",
       "value": 8
      }
     },
     "4b939b917d214d46acdd9251cdfcf3fd": {
      "model_module": "@jupyter-widgets/controls",
      "model_module_version": "2.0.0",
      "model_name": "HTMLStyleModel",
      "state": {
       "description_width": "",
       "font_size": null,
       "text_color": null
      }
     },
     "4e9ac0673c9d493bbe5826908a94a36b": {
      "model_module": "@jupyter-widgets/controls",
      "model_module_version": "2.0.0",
      "model_name": "HTMLStyleModel",
      "state": {
       "description_width": "",
       "font_size": null,
       "text_color": null
      }
     },
     "50feceb6513448eb88dd46b8c3066d66": {
      "model_module": "@jupyter-widgets/base",
      "model_module_version": "2.0.0",
      "model_name": "LayoutModel",
      "state": {}
     },
     "54b3b793088840d99872a7b8089a09f0": {
      "model_module": "@jupyter-widgets/controls",
      "model_module_version": "2.0.0",
      "model_name": "HTMLModel",
      "state": {
       "layout": "IPY_MODEL_1853ba72f2d646ccb39a8cfd76c11836",
       "style": "IPY_MODEL_1c38fb576431451eb3e72e631780cbf2",
       "value": " 1/1 [00:00&lt;00:00,  1.63it/s]"
      }
     },
     "5dad1e5c89d04aadae591adda0a93cca": {
      "model_module": "@jupyter-widgets/base",
      "model_module_version": "2.0.0",
      "model_name": "LayoutModel",
      "state": {
       "display": "inline-flex",
       "flex_flow": "row wrap",
       "width": "100%"
      }
     },
     "5f3a87716f074d11a4baa66c110bac85": {
      "model_module": "@jupyter-widgets/controls",
      "model_module_version": "2.0.0",
      "model_name": "HTMLModel",
      "state": {
       "layout": "IPY_MODEL_b160221a56f6410cb84b86e41a7de586",
       "style": "IPY_MODEL_c8397af73fbd40639ba209a816164689",
       "value": " 1/1 [00:00&lt;00:00, 28.09it/s]"
      }
     },
     "623ec8aa942340a4b6176b69ca66cc7c": {
      "model_module": "@jupyter-widgets/base",
      "model_module_version": "2.0.0",
      "model_name": "LayoutModel",
      "state": {
       "flex": "2"
      }
     },
     "6342e752f0f04f1e954ce2b08c9b168c": {
      "model_module": "@jupyter-widgets/controls",
      "model_module_version": "2.0.0",
      "model_name": "HBoxModel",
      "state": {
       "children": [
        "IPY_MODEL_0ddd567d83a14a19b2b857b53f16b200",
        "IPY_MODEL_7e08639ce1c44abe8ad4175b621e5a3d",
        "IPY_MODEL_5f3a87716f074d11a4baa66c110bac85"
       ],
       "layout": "IPY_MODEL_df7853cb30264bc8a5c097a454589a6b"
      }
     },
     "6ba86ee82ddc47239ff42745ca9c8f98": {
      "model_module": "@jupyter-widgets/controls",
      "model_module_version": "2.0.0",
      "model_name": "ProgressStyleModel",
      "state": {
       "description_width": ""
      }
     },
     "6de432528aac421fa5cb089a1273fe22": {
      "model_module": "@jupyter-widgets/base",
      "model_module_version": "2.0.0",
      "model_name": "LayoutModel",
      "state": {
       "display": "inline-flex",
       "flex_flow": "row wrap",
       "width": "100%"
      }
     },
     "72e8555605b842f6afbf4c4352a08d09": {
      "model_module": "@jupyter-widgets/controls",
      "model_module_version": "2.0.0",
      "model_name": "HTMLModel",
      "state": {
       "layout": "IPY_MODEL_b2bff78b334041349fb624a987d43a54",
       "style": "IPY_MODEL_4b939b917d214d46acdd9251cdfcf3fd",
       "value": " 7/7 [00:01&lt;00:00,  4.27it/s, train_loss=0.000528]"
      }
     },
     "7e08639ce1c44abe8ad4175b621e5a3d": {
      "model_module": "@jupyter-widgets/controls",
      "model_module_version": "2.0.0",
      "model_name": "FloatProgressModel",
      "state": {
       "bar_style": "success",
       "layout": "IPY_MODEL_8150114a00c44614a588cca48ce1adf4",
       "max": 1,
       "style": "IPY_MODEL_47071c6e040347e9b2272c759242f1fd",
       "value": 1
      }
     },
     "7e8342dbf8124d15b7a1287a6f1dc6af": {
      "model_module": "@jupyter-widgets/controls",
      "model_module_version": "2.0.0",
      "model_name": "HTMLStyleModel",
      "state": {
       "description_width": "",
       "font_size": null,
       "text_color": null
      }
     },
     "8150114a00c44614a588cca48ce1adf4": {
      "model_module": "@jupyter-widgets/base",
      "model_module_version": "2.0.0",
      "model_name": "LayoutModel",
      "state": {
       "flex": "2"
      }
     },
     "81abd483d4b147ba98d86e3153cd42cb": {
      "model_module": "@jupyter-widgets/controls",
      "model_module_version": "2.0.0",
      "model_name": "HTMLModel",
      "state": {
       "layout": "IPY_MODEL_cc855131fc2b4294be59ee9846870f09",
       "style": "IPY_MODEL_7e8342dbf8124d15b7a1287a6f1dc6af",
       "value": "Predicting DataLoader 0: 100%"
      }
     },
     "84655f8f0d9a4843b11818811742466d": {
      "model_module": "@jupyter-widgets/controls",
      "model_module_version": "2.0.0",
      "model_name": "HTMLStyleModel",
      "state": {
       "description_width": "",
       "font_size": null,
       "text_color": null
      }
     },
     "8706af5847eb41a5a704c65ca0df24f2": {
      "model_module": "@jupyter-widgets/controls",
      "model_module_version": "2.0.0",
      "model_name": "HTMLStyleModel",
      "state": {
       "description_width": "",
       "font_size": null,
       "text_color": null
      }
     },
     "8e667b49652b4faaa2fddc8b0fd8928e": {
      "model_module": "@jupyter-widgets/controls",
      "model_module_version": "2.0.0",
      "model_name": "HTMLModel",
      "state": {
       "layout": "IPY_MODEL_2fa1f7ba9640456cba6c3b889e5ce12b",
       "style": "IPY_MODEL_b58522d72eb948ff93226b115a9f2a55",
       "value": " 1/1 [00:00&lt;00:00, 17.04it/s]"
      }
     },
     "b160221a56f6410cb84b86e41a7de586": {
      "model_module": "@jupyter-widgets/base",
      "model_module_version": "2.0.0",
      "model_name": "LayoutModel",
      "state": {}
     },
     "b2bff78b334041349fb624a987d43a54": {
      "model_module": "@jupyter-widgets/base",
      "model_module_version": "2.0.0",
      "model_name": "LayoutModel",
      "state": {}
     },
     "b2f93e586eac4399897f2329be678ee5": {
      "model_module": "@jupyter-widgets/controls",
      "model_module_version": "2.0.0",
      "model_name": "HTMLStyleModel",
      "state": {
       "description_width": "",
       "font_size": null,
       "text_color": null
      }
     },
     "b58522d72eb948ff93226b115a9f2a55": {
      "model_module": "@jupyter-widgets/controls",
      "model_module_version": "2.0.0",
      "model_name": "HTMLStyleModel",
      "state": {
       "description_width": "",
       "font_size": null,
       "text_color": null
      }
     },
     "b62610b82ce043e7817e10af11ae81aa": {
      "model_module": "@jupyter-widgets/base",
      "model_module_version": "2.0.0",
      "model_name": "LayoutModel",
      "state": {}
     },
     "b67bb5599e884c29a3cba8cc8db6ef7b": {
      "model_module": "@jupyter-widgets/base",
      "model_module_version": "2.0.0",
      "model_name": "LayoutModel",
      "state": {}
     },
     "bdecf1ca1b72488997a216ace24ef670": {
      "model_module": "@jupyter-widgets/controls",
      "model_module_version": "2.0.0",
      "model_name": "HTMLModel",
      "state": {
       "layout": "IPY_MODEL_b67bb5599e884c29a3cba8cc8db6ef7b",
       "style": "IPY_MODEL_4e9ac0673c9d493bbe5826908a94a36b",
       "value": "Epoch 99: 100%"
      }
     },
     "c18acf3c20554ba798bf3831360f0fdf": {
      "model_module": "@jupyter-widgets/controls",
      "model_module_version": "2.0.0",
      "model_name": "FloatProgressModel",
      "state": {
       "bar_style": "success",
       "layout": "IPY_MODEL_623ec8aa942340a4b6176b69ca66cc7c",
       "max": 7,
       "style": "IPY_MODEL_29dfdb3e4da6452c94b62b0d70a7efbe",
       "value": 7
      }
     },
     "c8397af73fbd40639ba209a816164689": {
      "model_module": "@jupyter-widgets/controls",
      "model_module_version": "2.0.0",
      "model_name": "HTMLStyleModel",
      "state": {
       "description_width": "",
       "font_size": null,
       "text_color": null
      }
     },
     "cc855131fc2b4294be59ee9846870f09": {
      "model_module": "@jupyter-widgets/base",
      "model_module_version": "2.0.0",
      "model_name": "LayoutModel",
      "state": {}
     },
     "d7b93fc076bc4627a27abdc8c6945053": {
      "model_module": "@jupyter-widgets/base",
      "model_module_version": "2.0.0",
      "model_name": "LayoutModel",
      "state": {}
     },
     "df7853cb30264bc8a5c097a454589a6b": {
      "model_module": "@jupyter-widgets/base",
      "model_module_version": "2.0.0",
      "model_name": "LayoutModel",
      "state": {
       "display": "inline-flex",
       "flex_flow": "row wrap",
       "width": "100%"
      }
     },
     "e155a64d4aff4ccfb85dc4a6af419828": {
      "model_module": "@jupyter-widgets/base",
      "model_module_version": "2.0.0",
      "model_name": "LayoutModel",
      "state": {
       "flex": "2"
      }
     },
     "e91859ac26a14e6f8fbad3a3649b3b8d": {
      "model_module": "@jupyter-widgets/controls",
      "model_module_version": "2.0.0",
      "model_name": "HTMLModel",
      "state": {
       "layout": "IPY_MODEL_50feceb6513448eb88dd46b8c3066d66",
       "style": "IPY_MODEL_84655f8f0d9a4843b11818811742466d",
       "value": "Predicting DataLoader 0: 100%"
      }
     },
     "f2b71c37ebf641c99e73515f5e59ed0b": {
      "model_module": "@jupyter-widgets/base",
      "model_module_version": "2.0.0",
      "model_name": "LayoutModel",
      "state": {
       "display": "inline-flex",
       "flex_flow": "row wrap",
       "width": "100%"
      }
     },
     "f5b47bcb46da4b0a8d40396634f84a1b": {
      "model_module": "@jupyter-widgets/base",
      "model_module_version": "2.0.0",
      "model_name": "LayoutModel",
      "state": {}
     },
     "f629682c2bfd4cf58898d03c1d511755": {
      "model_module": "@jupyter-widgets/controls",
      "model_module_version": "2.0.0",
      "model_name": "FloatProgressModel",
      "state": {
       "bar_style": "success",
       "layout": "IPY_MODEL_e155a64d4aff4ccfb85dc4a6af419828",
       "max": 1,
       "style": "IPY_MODEL_155e2bcf8a064d4380c6f777f563fb2a",
       "value": 1
      }
     },
     "f7f192cc225946c2b77a84cdc3134112": {
      "model_module": "@jupyter-widgets/controls",
      "model_module_version": "2.0.0",
      "model_name": "HBoxModel",
      "state": {
       "children": [
        "IPY_MODEL_49ceed3fdbbd41e5b09373d7b721f765",
        "IPY_MODEL_4aede369e0af4636ba7c12a8dd16ad45",
        "IPY_MODEL_0285aa531f5742d88931f0b660ecd5dc"
       ],
       "layout": "IPY_MODEL_6de432528aac421fa5cb089a1273fe22"
      }
     }
    },
    "version_major": 2,
    "version_minor": 0
   }
  }
 },
 "nbformat": 4,
 "nbformat_minor": 5
}
